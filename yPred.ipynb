{
 "cells": [
  {
   "cell_type": "markdown",
   "id": "74330490",
   "metadata": {},
   "source": [
    "###  Linear formula : y_pred = mx+c"
   ]
  },
  {
   "cell_type": "code",
   "execution_count": 4,
   "id": "52b62a97",
   "metadata": {},
   "outputs": [],
   "source": [
    "x = [5,7,8,7,2,17,2,9,4,11,12,9,6]\n",
    "y = [99,86,67,88,111,86,103,87,94,78,77,85,86]"
   ]
  },
  {
   "cell_type": "code",
   "execution_count": 2,
   "id": "ab485951",
   "metadata": {},
   "outputs": [],
   "source": [
    "from scipy import stats"
   ]
  },
  {
   "cell_type": "code",
   "execution_count": 8,
   "id": "aec2fc37",
   "metadata": {},
   "outputs": [],
   "source": [
    "slope,intercept,r,p,stderr = stats.linregress(x,y)"
   ]
  },
  {
   "cell_type": "code",
   "execution_count": 17,
   "id": "a35827c9",
   "metadata": {},
   "outputs": [
    {
     "data": {
      "text/plain": [
       "-1.7880794701986753"
      ]
     },
     "execution_count": 17,
     "metadata": {},
     "output_type": "execute_result"
    }
   ],
   "source": [
    "m = slope\n",
    "m"
   ]
  },
  {
   "cell_type": "code",
   "execution_count": 18,
   "id": "ba79fe0f",
   "metadata": {},
   "outputs": [
    {
     "data": {
      "text/plain": [
       "101.84768211920529"
      ]
     },
     "execution_count": 18,
     "metadata": {},
     "output_type": "execute_result"
    }
   ],
   "source": [
    "c = intercept\n",
    "c"
   ]
  },
  {
   "cell_type": "code",
   "execution_count": 12,
   "id": "83dc6b22",
   "metadata": {},
   "outputs": [],
   "source": [
    "import numpy as np"
   ]
  },
  {
   "cell_type": "code",
   "execution_count": 13,
   "id": "fb156db5",
   "metadata": {},
   "outputs": [],
   "source": [
    "x = np.array(x)\n",
    "y = np.array(y)"
   ]
  },
  {
   "cell_type": "code",
   "execution_count": 15,
   "id": "df4737c5",
   "metadata": {},
   "outputs": [],
   "source": [
    "# y_pred = mx+c"
   ]
  },
  {
   "cell_type": "code",
   "execution_count": 25,
   "id": "5d7c3278",
   "metadata": {},
   "outputs": [
    {
     "name": "stdout",
     "output_type": "stream",
     "text": [
      "[92.90728477 89.33112583 87.54304636 89.33112583 98.27152318 71.45033113\n",
      " 98.27152318 85.75496689 94.69536424 82.17880795 80.39072848 85.75496689\n",
      " 91.1192053 ]\n"
     ]
    }
   ],
   "source": [
    "def Ypred(slope,inputVal,intercept):\n",
    "    #y_pread = m * x + c\n",
    "    y_pred = slope * inputVal + intercept\n",
    "    print(y_pread)\n",
    "Ypred(m,x,c)\n",
    "    "
   ]
  },
  {
   "cell_type": "code",
   "execution_count": null,
   "id": "fe172d88",
   "metadata": {},
   "outputs": [],
   "source": []
  }
 ],
 "metadata": {
  "kernelspec": {
   "display_name": "Python 3 (ipykernel)",
   "language": "python",
   "name": "python3"
  },
  "language_info": {
   "codemirror_mode": {
    "name": "ipython",
    "version": 3
   },
   "file_extension": ".py",
   "mimetype": "text/x-python",
   "name": "python",
   "nbconvert_exporter": "python",
   "pygments_lexer": "ipython3",
   "version": "3.8.2"
  }
 },
 "nbformat": 4,
 "nbformat_minor": 5
}
